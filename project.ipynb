{
 "cells": [
  {
   "cell_type": "code",
   "execution_count": 45,
   "metadata": {},
   "outputs": [],
   "source": [
    "import pandas as pd\n",
    "from sklearn.impute import SimpleImputer\n",
    "from sklearn.preprocessing import StandardScaler, PolynomialFeatures\n",
    "import numpy as np\n",
    "import statsmodels.api as sm\n",
    "import matplotlib.pyplot as plt\n",
    "import os"
   ]
  },
  {
   "cell_type": "markdown",
   "metadata": {},
   "source": [
    "**DATA PROCESSING**"
   ]
  },
  {
   "cell_type": "code",
   "execution_count": 46,
   "metadata": {},
   "outputs": [],
   "source": [
    "def extract_column_range(input_file, output_file, start, end):\n",
    "    data = pd.read_excel(input_file)\n",
    "\n",
    "    start_index = data.columns.get_loc(start)\n",
    "    end_index = data.columns.get_loc(end)\n",
    "    columns_to_delete_after = data.columns[start_index: end_index]\n",
    "\n",
    "    data.drop(columns=columns_to_delete_after, inplace=True)\n",
    "\n",
    "    end_index = data.columns.get_loc(end)\n",
    "    columns_to_delete_after = data.columns[end_index + 1:]\n",
    "\n",
    "    data.drop(columns=columns_to_delete_after, inplace=True)\n",
    "\n",
    "\n",
    "    data.to_excel(output_file, index=False)"
   ]
  },
  {
   "cell_type": "markdown",
   "metadata": {},
   "source": [
    "Extracting columns related to our indicator variouble from groundwater quality file"
   ]
  },
  {
   "cell_type": "code",
   "execution_count": 47,
   "metadata": {},
   "outputs": [],
   "source": [
    "extract_column_range('gwq.xlsx', 'gwq_potassium.xlsx', 'arsenic', 'potassium')"
   ]
  },
  {
   "cell_type": "markdown",
   "metadata": {},
   "source": [
    "Extracting relevant columns from gini file"
   ]
  },
  {
   "cell_type": "code",
   "execution_count": 48,
   "metadata": {},
   "outputs": [],
   "source": [
    "extract_column_range('gini.xlsx', 'gini_potassium.xlsx', 'Literacy', 'Gini')"
   ]
  },
  {
   "cell_type": "markdown",
   "metadata": {},
   "source": [
    "Merging gini and groundwater quality file based on district"
   ]
  },
  {
   "cell_type": "code",
   "execution_count": 49,
   "metadata": {},
   "outputs": [],
   "source": [
    "# Load \n",
    "gini_df = pd.read_excel('gini_potassium.xlsx')\n",
    "gwq_df = pd.read_excel('gwq_potassium.xlsx')\n",
    "\n",
    "# Merge\n",
    "merged_df = pd.merge(gini_df, gwq_df, on='district')\n",
    "\n",
    "# Save\n",
    "merged_df.to_excel('merged_data.xlsx', index=False)"
   ]
  },
  {
   "cell_type": "markdown",
   "metadata": {},
   "source": [
    "Capitalizing the words in the merged file "
   ]
  },
  {
   "cell_type": "code",
   "execution_count": 50,
   "metadata": {},
   "outputs": [],
   "source": [
    "def capitalize_excel_content(file_path, output_file_path):\n",
    "    \n",
    "    with pd.ExcelWriter(output_file_path, engine='openpyxl') as writer:\n",
    "        data = pd.read_excel(file_path, sheet_name=None)\n",
    "\n",
    "        \n",
    "        for sheet_name, df in data.items():\n",
    "            # 'str.upper' to capitalize all string data in the DataFrame\n",
    "            df = df.applymap(lambda x: x.upper() if isinstance(x, str) else x)\n",
    "            df.to_excel(writer, sheet_name=sheet_name, index=False)\n",
    "\n",
    "\n",
    "input_file = 'merged_data.xlsx'\n",
    "output_file = 'merged_new.xlsx'\n",
    "capitalize_excel_content(input_file, output_file)\n"
   ]
  },
  {
   "cell_type": "markdown",
   "metadata": {},
   "source": [
    "Converting GDP tables to same base year"
   ]
  },
  {
   "cell_type": "markdown",
   "metadata": {},
   "source": [
    "Table 1 and 2"
   ]
  },
  {
   "cell_type": "code",
   "execution_count": 51,
   "metadata": {},
   "outputs": [],
   "source": [
    "# Load the GDP data from the provided Excel files\n",
    "gdp_base_04 = pd.read_excel('gdp_04.xlsx')\n",
    "gdp_base_99 = pd.read_excel('gdp_99.xlsx')\n",
    "\n",
    "# Extract GDP data for the year 2004-05 from both datasets\n",
    "gdp_2004_base04 = gdp_base_04[gdp_base_04['YEAR'].str.contains('2004-05')].drop('YEAR', axis=1).reset_index(drop=True)\n",
    "gdp_2004_base99 = gdp_base_99[gdp_base_99['YEAR'].str.contains('2004-05')].drop('YEAR', axis=1).reset_index(drop=True)\n",
    "\n",
    "# Ensure both dataframes have comparable columns\n",
    "common_states = gdp_2004_base04.columns.intersection(gdp_2004_base99.columns)\n",
    "\n",
    "# Calculate the conversion factors for each state\n",
    "conversion_factors = gdp_2004_base04.loc[0, common_states] / gdp_2004_base99.loc[0, common_states]\n",
    "\n",
    "# Apply the conversion factors to adjust all values in the 1999-00 base year table\n",
    "gdp_adjusted_to_200405 = gdp_base_99[common_states].multiply(conversion_factors, axis='columns')\n",
    "gdp_adjusted_to_200405['YEAR'] = gdp_base_99['YEAR']  # Retain the year for reference\n",
    "\n",
    "# Merge the adjusted GDP dataset with the original 2004-05 base year dataset\n",
    "merged_dataset = pd.concat([gdp_base_04, gdp_adjusted_to_200405], ignore_index=True)\n",
    "merged_dataset.to_excel('merged_gdp_dataset.xlsx', index=False)\n"
   ]
  },
  {
   "cell_type": "code",
   "execution_count": 52,
   "metadata": {},
   "outputs": [],
   "source": [
    "file_path = 'merged_gdp_dataset.xlsx'\n",
    "data = pd.read_excel(file_path)\n",
    "data_modified = data[:-1]\n",
    "\n",
    "# Save the modified data to a new Excel file\n",
    "output_file_path = 'merged_gdp_dataset.xlsx'\n",
    "data_modified.to_excel(output_file_path, index=False)\n",
    "\n",
    "gdp_dataset = pd.read_excel('merged_gdp_dataset.xlsx')\n",
    "\n",
    "gdp_dataset_sorted = gdp_dataset.sort_values(by='YEAR')\n",
    "gdp_dataset_cleaned = gdp_dataset_sorted.drop_duplicates()\n",
    "\n",
    "\n",
    "gdp_dataset_cleaned.to_excel('merged_gdp_dataset.xlsx', index=False)"
   ]
  },
  {
   "cell_type": "markdown",
   "metadata": {},
   "source": [
    "Table 2 and 3"
   ]
  },
  {
   "cell_type": "code",
   "execution_count": 53,
   "metadata": {},
   "outputs": [],
   "source": [
    "gdp_11_base_11 = pd.read_excel('gdp_11.xlsx')\n",
    "gdp_11_base_04 = pd.read_excel('merged_gdp_dataset.xlsx')\n",
    "\n",
    "# Extract GDP data for the year 2011-12 from both datasets\n",
    "gdp_2011_base11 = gdp_11_base_11[gdp_11_base_11['YEAR'].str.contains('2011-12')].drop('YEAR', axis=1).reset_index(drop=True)\n",
    "gdp_2011_base04 = gdp_11_base_04[gdp_11_base_04['YEAR'].str.contains('2011-12')].drop('YEAR', axis=1).reset_index(drop=True)\n",
    "\n",
    "# Ensure both dataframes have comparable columns\n",
    "common_states_2011 = gdp_2011_base11.columns.intersection(gdp_2011_base04.columns)\n",
    "\n",
    "# Calculate the conversion factors for each state for 2011-12\n",
    "conversion_factors_2011 = gdp_2011_base11.loc[0, common_states_2011] / gdp_2011_base04.loc[0, common_states_2011]\n",
    "\n",
    "# Apply the conversion factors to adjust all values in the 2004-05 base year table\n",
    "gdp_adjusted_to_201112 = gdp_11_base_04[common_states_2011].multiply(conversion_factors_2011, axis='columns')\n",
    "gdp_adjusted_to_201112['YEAR'] = gdp_11_base_04['YEAR']  # Retain the year for reference\n",
    "\n",
    "# Merge the adjusted GDP dataset with the original 2011-12 base year dataset\n",
    "final_merged_dataset = pd.concat([gdp_11_base_11, gdp_adjusted_to_201112], ignore_index=True)\n",
    "\n",
    "# Save the merged dataset to a new Excel file\n",
    "final_merged_dataset.to_excel('final_gdp_dataset.xlsx', index=False)\n",
    "\n"
   ]
  },
  {
   "cell_type": "code",
   "execution_count": 54,
   "metadata": {},
   "outputs": [],
   "source": [
    "file_path = 'final_gdp_dataset.xlsx'\n",
    "data = pd.read_excel(file_path)\n",
    "data_modified = data[:-1]\n",
    "\n",
    "# Save the modified data to a new Excel file\n",
    "output_file_path = 'final_gdp_dataset.xlsx'\n",
    "data_modified.to_excel(output_file_path, index=False)\n",
    "\n",
    "gdp_dataset = pd.read_excel('final_gdp_dataset.xlsx')\n",
    "\n",
    "gdp_dataset_sorted = gdp_dataset.sort_values(by='YEAR')\n",
    "gdp_dataset_cleaned = gdp_dataset_sorted.drop_duplicates()\n",
    "\n",
    "\n",
    "gdp_dataset_cleaned.to_excel('final_gdp_dataset.xlsx', index=False)"
   ]
  },
  {
   "cell_type": "markdown",
   "metadata": {},
   "source": [
    "Merging the gdp table with the dataset "
   ]
  },
  {
   "cell_type": "code",
   "execution_count": 55,
   "metadata": {},
   "outputs": [],
   "source": [
    "\n",
    "\n",
    "def load_and_transform_gdp(file_path):\n",
    "    # Load the GDP data\n",
    "    gdp_df = pd.read_excel(file_path)\n",
    "    # Convert from wide to long format\n",
    "    gdp_long_df = gdp_df.melt(id_vars=['YEAR'], var_name='state', value_name='GDP')\n",
    "    # Extract the starting year from the 'YEAR' column for matching\n",
    "    gdp_long_df['year'] = gdp_long_df['YEAR'].str.slice(0, 4).astype(int)\n",
    "    # Ensure state names are in uppercase\n",
    "    gdp_long_df['state'] = gdp_long_df['state'].str.upper()\n",
    "    return gdp_long_df[['state', 'year', 'GDP']]  # Exclude 'YEAR' from the returned DataFrame\n",
    "\n",
    "def process_and_merge_gdp(gdp_files, input_merged_path, output_path):\n",
    "    # Load and transform all GDP files\n",
    "    all_gdp_data = pd.concat([load_and_transform_gdp(file) for file in gdp_files], ignore_index=True)\n",
    "    merged_new_df = pd.read_excel(input_merged_path)\n",
    "    # Ensure state names in merged_new data are in uppercase\n",
    "    merged_new_df['state'] = merged_new_df['state'].str.upper()\n",
    "    \n",
    "    # Merge the dataframes on 'state' and 'year'\n",
    "    merged_final_df = pd.merge(merged_new_df, all_gdp_data, on=['state', 'year'], how='left')\n",
    "    \n",
    "    # Save the merged dataframe to a new Excel file\n",
    "    merged_final_df.to_excel(output_path, index=False)\n",
    "\n",
    "\n",
    "gdp_files = ['final_gdp_dataset.xlsx']  \n",
    "input_merged_path = 'merged_new.xlsx'  \n",
    "output_path = 'dataset.xlsx' \n",
    "\n",
    "\n",
    "process_and_merge_gdp(gdp_files, input_merged_path, output_path)\n",
    "\n",
    "\n"
   ]
  },
  {
   "cell_type": "markdown",
   "metadata": {},
   "source": [
    "Data for Question 7 - Different Regions"
   ]
  },
  {
   "cell_type": "code",
   "execution_count": 56,
   "metadata": {},
   "outputs": [
    {
     "data": {
      "text/plain": [
       "{'NORTHERN REGION': 'ECO/NORTHERN_REGION.xlsx',\n",
       " 'NORTH-EASTERN REGION': 'ECO/NORTH-EASTERN_REGION.xlsx',\n",
       " 'EASTERN REGION': 'ECO/EASTERN_REGION.xlsx',\n",
       " 'CENTRAL REGION': 'ECO/CENTRAL_REGION.xlsx',\n",
       " 'WESTERN REGION': 'ECO/WESTERN_REGION.xlsx',\n",
       " 'SOUTHERN REGION': 'ECO/SOUTHERN_REGION.xlsx'}"
      ]
     },
     "execution_count": 56,
     "metadata": {},
     "output_type": "execute_result"
    }
   ],
   "source": [
    "# Load the dataset\n",
    "data_path = 'dataset.xlsx'\n",
    "data = pd.read_excel(data_path)\n",
    "\n",
    "# Pre-extracted regions and states based on the image provided earlier\n",
    "regions = {'NORTHERN REGION': ['CHANDIGARH', 'DELHI', 'HARYANA', 'HIMACHAL PRADESH', 'JAMMU AND KASHMIR', 'PUNJAB', 'RAJASTHAN'],\n",
    "           'NORTH-EASTERN REGION': ['ARUNACHAL PRADESH', 'ASSAM', 'MANIPUR', 'MEGHALAYA', 'MIZORAM', 'NAGALAND', 'TRIPURA'],\n",
    "           'EASTERN REGION': ['ANDAMAN & NICOBAR ISLANDS', 'BIHAR', 'JHARKHAND', 'ODISHA', 'SIKKIM', 'WEST BENGAL'],\n",
    "           'CENTRAL REGION': ['CHHATTISGARH', 'MADHYA PRADESH', 'UTTAR PRADESH', 'UTTARANCHAL'],\n",
    "           'WESTERN REGION': ['THE DADRA AND NAGAR HAVELI AND DAMAN AND DIU', 'GOA', 'GUJARAT', 'MAHARASHTRA'],\n",
    "           'SOUTHERN REGION': ['ANDHRA PRADESH', 'KARNATAKA', 'KERALA', 'LAKSHADWEEP', 'PONDICHERRY', 'TAMILNADU']}\n",
    "\n",
    "# Create a directory for the output files\n",
    "output_dir = 'ECO/'\n",
    "os.makedirs(output_dir, exist_ok=True)\n",
    "\n",
    "# Function to save the dataframe to an Excel file\n",
    "def save_to_excel(df, region_name):\n",
    "    # Replace spaces and slashes for file compatibility\n",
    "    file_name = region_name.replace(' ', '_').replace('&', 'and') + '.xlsx'\n",
    "    file_path = output_dir + file_name\n",
    "    df.to_excel(file_path, index=False)\n",
    "    return file_path\n",
    "\n",
    "# Dictionary to store file paths for the newly created excel files\n",
    "excel_file_paths = {}\n",
    "\n",
    "# Iterate over the regions dictionary to filter and save the dataframes\n",
    "for region, states in regions.items():\n",
    "    # Filter the data for the current region\n",
    "    df_region = data[data['state'].str.upper().isin(states)]\n",
    "    # Save to an Excel file\n",
    "    excel_file_paths[region] = save_to_excel(df_region, region)\n",
    "\n",
    "excel_file_paths\n"
   ]
  },
  {
   "cell_type": "markdown",
   "metadata": {},
   "source": [
    "**QUESTIONS**"
   ]
  },
  {
   "cell_type": "markdown",
   "metadata": {},
   "source": [
    "Question - 1"
   ]
  },
  {
   "cell_type": "code",
   "execution_count": 57,
   "metadata": {},
   "outputs": [
    {
     "name": "stdout",
     "output_type": "stream",
     "text": [
      "<class 'pandas.core.frame.DataFrame'>\n",
      "RangeIndex: 7818 entries, 0 to 7817\n",
      "Data columns (total 9 columns):\n",
      " #   Column     Non-Null Count  Dtype  \n",
      "---  ------     --------------  -----  \n",
      " 0   No.        7818 non-null   object \n",
      " 1   district   7818 non-null   object \n",
      " 2   Gini       7693 non-null   float64\n",
      " 3   country    7818 non-null   object \n",
      " 4   state      7818 non-null   object \n",
      " 5   year       7818 non-null   int64  \n",
      " 6   dyid       7818 non-null   object \n",
      " 7   potassium  4708 non-null   float64\n",
      " 8   GDP        7798 non-null   float64\n",
      "dtypes: float64(3), int64(1), object(5)\n",
      "memory usage: 549.8+ KB\n"
     ]
    },
    {
     "data": {
      "text/plain": [
       "(None,\n",
       "   No.       district  Gini country                        state  year  \\\n",
       " 0   1  SOUTH ANDAMAN  0.33   INDIA  ANDAMAN AND NICOBAR ISLANDS  2000   \n",
       " 1   1  SOUTH ANDAMAN  0.33   INDIA  ANDAMAN AND NICOBAR ISLANDS  2001   \n",
       " 2   1  SOUTH ANDAMAN  0.33   INDIA  ANDAMAN AND NICOBAR ISLANDS  2002   \n",
       " 3   1  SOUTH ANDAMAN  0.33   INDIA  ANDAMAN AND NICOBAR ISLANDS  2003   \n",
       " 4   1  SOUTH ANDAMAN  0.33   INDIA  ANDAMAN AND NICOBAR ISLANDS  2004   \n",
       " \n",
       "                 dyid  potassium          GDP  \n",
       " 0  SOUTH ANDAMAN2000        NaN  1247.388396  \n",
       " 1  SOUTH ANDAMAN2001        NaN  1275.670472  \n",
       " 2  SOUTH ANDAMAN2002        NaN  1411.126730  \n",
       " 3  SOUTH ANDAMAN2003        NaN  1559.979760  \n",
       " 4  SOUTH ANDAMAN2004   1.742308  1619.520972  ,\n",
       "               Gini         year    potassium           GDP\n",
       " count  7693.000000  7818.000000  4708.000000  7.798000e+03\n",
       " mean      0.266969  2008.966232    15.872150  3.296040e+05\n",
       " std       0.055361     5.474388    25.695746  2.769489e+05\n",
       " min       0.160000  2000.000000     0.000000  1.247388e+03\n",
       " 25%       0.230000  2004.000000     3.360000  1.399343e+05\n",
       " 50%       0.260000  2009.000000     7.363068  2.469147e+05\n",
       " 75%       0.300000  2014.000000    17.244445  4.419564e+05\n",
       " max       0.480000  2018.000000   405.000000  1.728578e+06)"
      ]
     },
     "execution_count": 57,
     "metadata": {},
     "output_type": "execute_result"
    }
   ],
   "source": [
    "file_path = 'dataset.xlsx'\n",
    "data = pd.read_excel(file_path)\n",
    "\n",
    "# Display the first few rows of the dataset and its summary statistics\n",
    "data_info = data.info()\n",
    "data_head = data.head()\n",
    "data_description = data.describe()\n",
    "\n",
    "data_info, data_head, data_description"
   ]
  },
  {
   "cell_type": "code",
   "execution_count": 58,
   "metadata": {},
   "outputs": [],
   "source": [
    "cleaned_data = data.dropna(subset=['potassium', 'GDP', 'Gini'])"
   ]
  },
  {
   "cell_type": "markdown",
   "metadata": {},
   "source": [
    "Regression "
   ]
  },
  {
   "cell_type": "code",
   "execution_count": 59,
   "metadata": {},
   "outputs": [
    {
     "name": "stdout",
     "output_type": "stream",
     "text": [
      "                            OLS Regression Results                            \n",
      "==============================================================================\n",
      "Dep. Variable:              potassium   R-squared:                       0.001\n",
      "Model:                            OLS   Adj. R-squared:                  0.001\n",
      "Method:                 Least Squares   F-statistic:                     4.815\n",
      "Date:                Mon, 29 Apr 2024   Prob (F-statistic):             0.0283\n",
      "Time:                        00:14:38   Log-Likelihood:                -21479.\n",
      "No. Observations:                4602   AIC:                         4.296e+04\n",
      "Df Residuals:                    4600   BIC:                         4.298e+04\n",
      "Df Model:                           1                                         \n",
      "Covariance Type:            nonrobust                                         \n",
      "==============================================================================\n",
      "                 coef    std err          t      P>|t|      [0.025      0.975]\n",
      "------------------------------------------------------------------------------\n",
      "const         16.9359      0.596     28.392      0.000      15.766      18.105\n",
      "GDP        -2.945e-06   1.34e-06     -2.194      0.028   -5.58e-06   -3.14e-07\n",
      "==============================================================================\n",
      "Omnibus:                     4860.370   Durbin-Watson:                   0.885\n",
      "Prob(Omnibus):                  0.000   Jarque-Bera (JB):           413736.582\n",
      "Skew:                           5.220   Prob(JB):                         0.00\n",
      "Kurtosis:                      48.262   Cond. No.                     6.98e+05\n",
      "==============================================================================\n",
      "\n",
      "Notes:\n",
      "[1] Standard Errors assume that the covariance matrix of the errors is correctly specified.\n",
      "[2] The condition number is large, 6.98e+05. This might indicate that there are\n",
      "strong multicollinearity or other numerical problems.\n",
      "Mean Squared Error:  663.3537797801159\n",
      "Manually Calculated Mean Squared Error:  663.0654904364479\n"
     ]
    }
   ],
   "source": [
    "y = cleaned_data['potassium']\n",
    "X = cleaned_data['GDP']\n",
    "\n",
    "# Add a constant term to include an intercept in the regression model\n",
    "X = sm.add_constant(X)\n",
    "\n",
    "# OLS regression model\n",
    "model = sm.OLS(y, X)\n",
    "\n",
    "#Fitting the model to the data\n",
    "results = model.fit()\n",
    "\n",
    "#results\n",
    "print(results.summary())\n",
    "\n",
    "mse = results.mse_resid\n",
    "print(\"Mean Squared Error: \", mse)\n",
    "\n",
    "# Alternatively, calculate MSE manually\n",
    "predictions = results.predict(X)\n",
    "mse_manual = ((predictions - y) ** 2).mean()\n",
    "print(\"Manually Calculated Mean Squared Error: \", mse_manual)"
   ]
  },
  {
   "cell_type": "markdown",
   "metadata": {},
   "source": [
    "Regression (After using standard scaler)"
   ]
  },
  {
   "cell_type": "code",
   "execution_count": 60,
   "metadata": {},
   "outputs": [
    {
     "name": "stdout",
     "output_type": "stream",
     "text": [
      "                            OLS Regression Results                            \n",
      "==============================================================================\n",
      "Dep. Variable:              potassium   R-squared:                       0.001\n",
      "Model:                            OLS   Adj. R-squared:                  0.001\n",
      "Method:                 Least Squares   F-statistic:                     4.815\n",
      "Date:                Mon, 29 Apr 2024   Prob (F-statistic):             0.0283\n",
      "Time:                        00:14:40   Log-Likelihood:                -21479.\n",
      "No. Observations:                4602   AIC:                         4.296e+04\n",
      "Df Residuals:                    4600   BIC:                         4.298e+04\n",
      "Df Model:                           1                                         \n",
      "Covariance Type:            nonrobust                                         \n",
      "==============================================================================\n",
      "                 coef    std err          t      P>|t|      [0.025      0.975]\n",
      "------------------------------------------------------------------------------\n",
      "const         15.9263      0.380     41.949      0.000      15.182      16.671\n",
      "GDP           -0.8331      0.380     -2.194      0.028      -1.577      -0.089\n",
      "==============================================================================\n",
      "Omnibus:                     4860.370   Durbin-Watson:                   0.885\n",
      "Prob(Omnibus):                  0.000   Jarque-Bera (JB):           413736.582\n",
      "Skew:                           5.220   Prob(JB):                         0.00\n",
      "Kurtosis:                      48.262   Cond. No.                         1.00\n",
      "==============================================================================\n",
      "\n",
      "Notes:\n",
      "[1] Standard Errors assume that the covariance matrix of the errors is correctly specified.\n",
      "Mean Squared Error:  663.3537797801157\n",
      "Manually Calculated Mean Squared Error:  663.0654904364479\n"
     ]
    }
   ],
   "source": [
    "file_path = 'dataset.xlsx'\n",
    "scaled_data = pd.read_excel(file_path)\n",
    "\n",
    "scaled_data = scaled_data.dropna(subset=['potassium', 'GDP', 'Gini'])\n",
    "\n",
    "scaler = StandardScaler()\n",
    "scaled_data[['GDP', 'Gini']] = scaler.fit_transform(cleaned_data[['GDP', 'Gini']])\n",
    "\n",
    "y = scaled_data['potassium']\n",
    "X = scaled_data['GDP']\n",
    "\n",
    "# Add a constant term to include an intercept in the regression model\n",
    "X = sm.add_constant(X)\n",
    "\n",
    "# OLS regression model\n",
    "model = sm.OLS(y, X)\n",
    "\n",
    "#Fitting the model to the data\n",
    "results = model.fit()\n",
    "\n",
    "#results\n",
    "print(results.summary())\n",
    "\n",
    "mse = results.mse_resid\n",
    "print(\"Mean Squared Error: \", mse)\n",
    "\n",
    "# Alternatively, calculate MSE manually\n",
    "predictions = results.predict(X)\n",
    "mse_manual = ((predictions - y) ** 2).mean()\n",
    "print(\"Manually Calculated Mean Squared Error: \", mse_manual)"
   ]
  },
  {
   "cell_type": "markdown",
   "metadata": {},
   "source": []
  },
  {
   "cell_type": "markdown",
   "metadata": {},
   "source": [
    "Question 2"
   ]
  },
  {
   "cell_type": "code",
   "execution_count": 61,
   "metadata": {},
   "outputs": [
    {
     "name": "stderr",
     "output_type": "stream",
     "text": [
      "C:\\Users\\Aryan\\AppData\\Local\\Temp\\ipykernel_39624\\736055291.py:2: SettingWithCopyWarning: \n",
      "A value is trying to be set on a copy of a slice from a DataFrame.\n",
      "Try using .loc[row_indexer,col_indexer] = value instead\n",
      "\n",
      "See the caveats in the documentation: https://pandas.pydata.org/pandas-docs/stable/user_guide/indexing.html#returning-a-view-versus-a-copy\n",
      "  cleaned_data['residuals'] = results.resid\n"
     ]
    },
    {
     "data": {
      "image/png": "[encoded data removed]",
      "text/plain": [
       "<Figure size 720x360 with 1 Axes>"
      ]
     },
     "metadata": {
      "needs_background": "light"
     },
     "output_type": "display_data"
    },
    {
     "data": {
      "image/png": "[encoded data removed]",
      "text/plain": [
       "<Figure size 720x360 with 1 Axes>"
      ]
     },
     "metadata": {
      "needs_background": "light"
     },
     "output_type": "display_data"
    }
   ],
   "source": [
    "# Calculate the residuals\n",
    "cleaned_data['residuals'] = results.resid\n",
    "\n",
    "# Plot 1: GWQ vs SDP with the regression line\n",
    "plt.figure(figsize=(10, 5))\n",
    "plt.scatter(cleaned_data['GDP'], cleaned_data['potassium'], alpha=0.5, label='Actual GWQ')\n",
    "plt.plot(cleaned_data['GDP'], results.fittedvalues, color='red', label='Fitted Line')\n",
    "plt.title('Groundwater Quality vs. State Domestic Product')\n",
    "plt.xlabel('State Domestic Product (SDP)')\n",
    "plt.ylabel('Groundwater Quality (GWQ)')\n",
    "plt.legend()\n",
    "plt.grid(True)\n",
    "plt.show()\n",
    "\n",
    "# Plot 2: Residuals vs SDP\n",
    "plt.figure(figsize=(10, 5))\n",
    "plt.scatter(cleaned_data['GDP'], cleaned_data['residuals'], alpha=0.5, color='green')\n",
    "plt.axhline(y=0, color='red', linestyle='--')\n",
    "plt.title('Residuals vs. State Domestic Product')\n",
    "plt.xlabel('State Domestic Product (SDP)')\n",
    "plt.ylabel('Residuals (ûi,t)')\n",
    "plt.grid(True)\n",
    "plt.show()\n"
   ]
  },
  {
   "cell_type": "markdown",
   "metadata": {},
   "source": [
    "Question 3"
   ]
  },
  {
   "cell_type": "code",
   "execution_count": 62,
   "metadata": {},
   "outputs": [
    {
     "data": {
      "image/png": "[encoded data removed]",
      "text/plain": [
       "<Figure size 720x360 with 1 Axes>"
      ]
     },
     "metadata": {
      "needs_background": "light"
     },
     "output_type": "display_data"
    },
    {
     "data": {
      "text/plain": [
       "6.002665031701326e-11"
      ]
     },
     "execution_count": 62,
     "metadata": {},
     "output_type": "execute_result"
    }
   ],
   "source": [
    "# Plotting the histogram of the residuals\n",
    "plt.figure(figsize=(10, 5))\n",
    "plt.hist(cleaned_data['residuals'], bins=50, color='blue', edgecolor='black')\n",
    "plt.title('Histogram of Residuals (ûi,t)')\n",
    "plt.xlabel('Residuals (ûi,t)')\n",
    "plt.ylabel('Frequency')\n",
    "plt.grid(True)\n",
    "plt.show()\n",
    "\n",
    "# Verification that the sum of the residuals is approximately 0\n",
    "sum_of_residuals = cleaned_data['residuals'].sum()\n",
    "sum_of_residuals"
   ]
  },
  {
   "cell_type": "markdown",
   "metadata": {},
   "source": [
    "Sum is effectively 0 "
   ]
  },
  {
   "cell_type": "markdown",
   "metadata": {},
   "source": [
    "Question 4"
   ]
  },
  {
   "cell_type": "markdown",
   "metadata": {},
   "source": [
    "Setting up the model"
   ]
  },
  {
   "cell_type": "markdown",
   "metadata": {},
   "source": [
    "b0 + b1GDP + b2GDP^2 + b3GDP^3 + delta1Gini + constant"
   ]
  },
  {
   "cell_type": "code",
   "execution_count": 65,
   "metadata": {},
   "outputs": [],
   "source": [
    "def runner(data):\n",
    "    data_clean = data.dropna(subset=['potassium','GDP','Gini'])\n",
    "    #imputer = SimpleImputer(strategy='median')\n",
    "    #data_clean[['GDP', 'Gini']] = imputer.fit_transform(data_clean[['GDP', 'Gini']])\n",
    "\n",
    "    # Create polynomial features for GDP\n",
    "    poly = PolynomialFeatures(degree=3, include_bias=False)\n",
    "    gdp_poly = poly.fit_transform(data_clean[['GDP']])\n",
    "    gdp_poly_df = pd.DataFrame(gdp_poly, columns=['GDP', 'GDP2', 'GDP3'], index=data_clean.index)\n",
    "\n",
    "    # Merge polynomial GDP features back into the original dataframe\n",
    "    data_clean = pd.concat([data_clean, gdp_poly_df[['GDP2', 'GDP3']]], axis=1)\n",
    "\n",
    "    # Normalize 'GDP', 'Gini', 'potassium', 'GDP2', 'GDP3'\n",
    "    scaler = StandardScaler()\n",
    "    data_clean[['GDP', 'Gini', 'potassium', 'GDP2', 'GDP3']] = scaler.fit_transform(data_clean[['GDP', 'Gini', 'potassium', 'GDP2', 'GDP3']])\n",
    "\n",
    "    # Check for outliers by looking at statistical descriptions\n",
    "    data_clean_description = data_clean[['GDP', 'Gini', 'potassium', 'GDP2', 'GDP3']].describe()\n",
    "\n",
    "    data_clean_description\n",
    "\n",
    "    X = data_clean[['GDP', 'GDP2', 'GDP3', 'Gini']]\n",
    "    X = sm.add_constant(X)\n",
    "\n",
    "    # Define the dependent variable\n",
    "    y = data_clean['potassium']\n",
    "\n",
    "    # Fit the regression model\n",
    "    model = sm.OLS(y, X).fit()\n",
    "\n",
    "    # Get the summary of the regression model\n",
    "    model_summary = model.summary()\n",
    "    print(model_summary)\n",
    "    data_clean['predicted_potassium'] = model.predict(X)\n",
    "\n",
    "# Sort data for plotting\n",
    "    plot_data = data_clean.sort_values(by='GDP')\n",
    "\n",
    "    # Import plotting libraries\n",
    "   \n",
    "\n",
    "    # Create the plot\n",
    "    plt.figure(figsize=(10, 6))\n",
    "    plt.scatter(plot_data['GDP'], plot_data['potassium'], color='blue', label='Actual Data')\n",
    "    plt.plot(plot_data['GDP'], plot_data['predicted_potassium'], color='red', label='Predicted Kuznets Curve')\n",
    "    plt.xlabel('Normalized GDP')\n",
    "    plt.ylabel('Normalized Potassium')\n",
    "    plt.title('Kuznets Curve')\n",
    "    plt.legend()\n",
    "    plt.grid(True)\n",
    "    plt.show()\n",
    "\n",
    "   "
   ]
  },
  {
   "cell_type": "markdown",
   "metadata": {},
   "source": [
    "Regression "
   ]
  },
  {
   "cell_type": "code",
   "execution_count": 66,
   "metadata": {},
   "outputs": [
    {
     "name": "stdout",
     "output_type": "stream",
     "text": [
      "                            OLS Regression Results                            \n",
      "==============================================================================\n",
      "Dep. Variable:              potassium   R-squared:                       0.012\n",
      "Model:                            OLS   Adj. R-squared:                  0.012\n",
      "Method:                 Least Squares   F-statistic:                     14.52\n",
      "Date:                Mon, 29 Apr 2024   Prob (F-statistic):           8.73e-12\n",
      "Time:                        00:26:21   Log-Likelihood:                -6501.1\n",
      "No. Observations:                4602   AIC:                         1.301e+04\n",
      "Df Residuals:                    4597   BIC:                         1.304e+04\n",
      "Df Model:                           4                                         \n",
      "Covariance Type:            nonrobust                                         \n",
      "==============================================================================\n",
      "                 coef    std err          t      P>|t|      [0.025      0.975]\n",
      "------------------------------------------------------------------------------\n",
      "const        5.99e-18      0.015   4.09e-16      1.000      -0.029       0.029\n",
      "GDP            0.4866      0.089      5.463      0.000       0.312       0.661\n",
      "GDP2          -1.0558      0.202     -5.235      0.000      -1.451      -0.660\n",
      "GDP3           0.5702      0.128      4.461      0.000       0.320       0.821\n",
      "Gini           0.0554      0.015      3.778      0.000       0.027       0.084\n",
      "==============================================================================\n",
      "Omnibus:                     4864.775   Durbin-Watson:                   0.899\n",
      "Prob(Omnibus):                  0.000   Jarque-Bera (JB):           419839.180\n",
      "Skew:                           5.222   Prob(JB):                         0.00\n",
      "Kurtosis:                      48.612   Cond. No.                         28.9\n",
      "==============================================================================\n",
      "\n",
      "Notes:\n",
      "[1] Standard Errors assume that the covariance matrix of the errors is correctly specified.\n"
     ]
    },
    {
     "data": {
      "image/png": "[encoded data removed]",
      "text/plain": [
       "<Figure size 720x432 with 1 Axes>"
      ]
     },
     "metadata": {
      "needs_background": "light"
     },
     "output_type": "display_data"
    }
   ],
   "source": [
    "runner(cleaned_data)\n"
   ]
  },
  {
   "cell_type": "code",
   "execution_count": null,
   "metadata": {},
   "outputs": [],
   "source": []
  },
  {
   "cell_type": "markdown",
   "metadata": {},
   "source": [
    "Results - "
   ]
  },
  {
   "cell_type": "markdown",
   "metadata": {},
   "source": [
    "Outlier removal"
   ]
  },
  {
   "cell_type": "markdown",
   "metadata": {},
   "source": [
    "Question 5"
   ]
  },
  {
   "cell_type": "markdown",
   "metadata": {},
   "source": [
    "Inference from Q5 results"
   ]
  },
  {
   "cell_type": "markdown",
   "metadata": {},
   "source": [
    "Question 6"
   ]
  },
  {
   "cell_type": "markdown",
   "metadata": {},
   "source": [
    "Dividing the data for different time periods"
   ]
  },
  {
   "cell_type": "code",
   "execution_count": null,
   "metadata": {},
   "outputs": [
    {
     "data": {
      "text/plain": [
       "((2070, 9), (2070, 9), (2046, 9), (1632, 9))"
      ]
     },
     "execution_count": 34,
     "metadata": {},
     "output_type": "execute_result"
    }
   ],
   "source": [
    "# Creating subsets of the data based on different time periods\n",
    "data_2000_2004 = data[(data['year'] >= 2000) & (data['year'] <= 2004)]\n",
    "data_2005_2009 = data[(data['year'] >= 2005) & (data['year'] <= 2009)]\n",
    "data_2010_2014 = data[(data['year'] >= 2010) & (data['year'] <= 2014)]\n",
    "data_2015_2018 = data[(data['year'] >= 2015) & (data['year'] <= 2018)]\n",
    "\n",
    "\n",
    "(data_2000_2004.shape, data_2005_2009.shape, data_2010_2014.shape, data_2015_2018.shape)\n"
   ]
  },
  {
   "cell_type": "code",
   "execution_count": null,
   "metadata": {},
   "outputs": [
    {
     "name": "stdout",
     "output_type": "stream",
     "text": [
      "                            OLS Regression Results                            \n",
      "==============================================================================\n",
      "Dep. Variable:              potassium   R-squared:                       0.021\n",
      "Model:                            OLS   Adj. R-squared:                  0.017\n",
      "Method:                 Least Squares   F-statistic:                     4.823\n",
      "Date:                Sun, 28 Apr 2024   Prob (F-statistic):           0.000748\n",
      "Time:                        23:31:41   Log-Likelihood:                -1276.0\n",
      "No. Observations:                 906   AIC:                             2562.\n",
      "Df Residuals:                     901   BIC:                             2586.\n",
      "Df Model:                           4                                         \n",
      "Covariance Type:            nonrobust                                         \n",
      "==============================================================================\n",
      "                 coef    std err          t      P>|t|      [0.025      0.975]\n",
      "------------------------------------------------------------------------------\n",
      "const      -3.816e-17      0.033  -1.16e-15      1.000      -0.065       0.065\n",
      "GDP            0.6604      0.278      2.376      0.018       0.115       1.206\n",
      "GDP2          -1.6136      0.610     -2.644      0.008      -2.811      -0.416\n",
      "GDP3           0.8875      0.365      2.429      0.015       0.170       1.605\n",
      "Gini           0.0428      0.033      1.288      0.198      -0.022       0.108\n",
      "==============================================================================\n",
      "Omnibus:                     1029.849   Durbin-Watson:                   1.333\n",
      "Prob(Omnibus):                  0.000   Jarque-Bera (JB):            87830.145\n",
      "Skew:                           5.555   Prob(JB):                         0.00\n",
      "Kurtosis:                      49.938   Cond. No.                         39.2\n",
      "==============================================================================\n",
      "\n",
      "Notes:\n",
      "[1] Standard Errors assume that the covariance matrix of the errors is correctly specified.\n"
     ]
    }
   ],
   "source": [
    "runner(data_2000_2004)"
   ]
  },
  {
   "cell_type": "code",
   "execution_count": null,
   "metadata": {},
   "outputs": [
    {
     "name": "stdout",
     "output_type": "stream",
     "text": [
      "                            OLS Regression Results                            \n",
      "==============================================================================\n",
      "Dep. Variable:              potassium   R-squared:                       0.052\n",
      "Model:                            OLS   Adj. R-squared:                  0.049\n",
      "Method:                 Least Squares   F-statistic:                     17.20\n",
      "Date:                Sun, 28 Apr 2024   Prob (F-statistic):           9.45e-14\n",
      "Time:                        23:31:41   Log-Likelihood:                -1768.4\n",
      "No. Observations:                1270   AIC:                             3547.\n",
      "Df Residuals:                    1265   BIC:                             3573.\n",
      "Df Model:                           4                                         \n",
      "Covariance Type:            nonrobust                                         \n",
      "==============================================================================\n",
      "                 coef    std err          t      P>|t|      [0.025      0.975]\n",
      "------------------------------------------------------------------------------\n",
      "const       4.662e-18      0.027    1.7e-16      1.000      -0.054       0.054\n",
      "GDP            1.3994      0.215      6.523      0.000       0.979       1.820\n",
      "GDP2          -2.9361      0.545     -5.389      0.000      -4.005      -1.867\n",
      "GDP3           1.6042      0.358      4.482      0.000       0.902       2.306\n",
      "Gini           0.1022      0.027      3.721      0.000       0.048       0.156\n",
      "==============================================================================\n",
      "Omnibus:                      841.240   Durbin-Watson:                   0.902\n",
      "Prob(Omnibus):                  0.000   Jarque-Bera (JB):             9433.714\n",
      "Skew:                           3.007   Prob(JB):                         0.00\n",
      "Kurtosis:                      14.921   Cond. No.                         42.3\n",
      "==============================================================================\n",
      "\n",
      "Notes:\n",
      "[1] Standard Errors assume that the covariance matrix of the errors is correctly specified.\n"
     ]
    }
   ],
   "source": [
    "runner(data_2005_2009)"
   ]
  },
  {
   "cell_type": "code",
   "execution_count": null,
   "metadata": {},
   "outputs": [
    {
     "name": "stdout",
     "output_type": "stream",
     "text": [
      "                            OLS Regression Results                            \n",
      "==============================================================================\n",
      "Dep. Variable:              potassium   R-squared:                       0.035\n",
      "Model:                            OLS   Adj. R-squared:                  0.032\n",
      "Method:                 Least Squares   F-statistic:                     11.59\n",
      "Date:                Sun, 28 Apr 2024   Prob (F-statistic):           3.01e-09\n",
      "Time:                        23:31:41   Log-Likelihood:                -1799.1\n",
      "No. Observations:                1284   AIC:                             3608.\n",
      "Df Residuals:                    1279   BIC:                             3634.\n",
      "Df Model:                           4                                         \n",
      "Covariance Type:            nonrobust                                         \n",
      "==============================================================================\n",
      "                 coef    std err          t      P>|t|      [0.025      0.975]\n",
      "------------------------------------------------------------------------------\n",
      "const       6.072e-17      0.027   2.21e-15      1.000      -0.054       0.054\n",
      "GDP            0.7052      0.195      3.617      0.000       0.323       1.088\n",
      "GDP2          -1.0461      0.491     -2.132      0.033      -2.009      -0.083\n",
      "GDP3           0.3665      0.325      1.127      0.260      -0.272       1.005\n",
      "Gini           0.0014      0.028      0.049      0.961      -0.053       0.055\n",
      "==============================================================================\n",
      "Omnibus:                     1413.914   Durbin-Watson:                   0.759\n",
      "Prob(Omnibus):                  0.000   Jarque-Bera (JB):           130246.434\n",
      "Skew:                           5.343   Prob(JB):                         0.00\n",
      "Kurtosis:                      51.170   Cond. No.                         37.8\n",
      "==============================================================================\n",
      "\n",
      "Notes:\n",
      "[1] Standard Errors assume that the covariance matrix of the errors is correctly specified.\n"
     ]
    }
   ],
   "source": [
    "runner(data_2010_2014)"
   ]
  },
  {
   "cell_type": "code",
   "execution_count": null,
   "metadata": {},
   "outputs": [
    {
     "name": "stdout",
     "output_type": "stream",
     "text": [
      "                            OLS Regression Results                            \n",
      "==============================================================================\n",
      "Dep. Variable:              potassium   R-squared:                       0.018\n",
      "Model:                            OLS   Adj. R-squared:                  0.014\n",
      "Method:                 Least Squares   F-statistic:                     5.141\n",
      "Date:                Sun, 28 Apr 2024   Prob (F-statistic):           0.000417\n",
      "Time:                        23:31:41   Log-Likelihood:                -1610.2\n",
      "No. Observations:                1142   AIC:                             3230.\n",
      "Df Residuals:                    1137   BIC:                             3256.\n",
      "Df Model:                           4                                         \n",
      "Covariance Type:            nonrobust                                         \n",
      "==============================================================================\n",
      "                 coef    std err          t      P>|t|      [0.025      0.975]\n",
      "------------------------------------------------------------------------------\n",
      "const      -3.567e-17      0.029  -1.21e-15      1.000      -0.058       0.058\n",
      "GDP            0.8413      0.233      3.610      0.000       0.384       1.299\n",
      "GDP2          -1.7697      0.546     -3.240      0.001      -2.842      -0.698\n",
      "GDP3           0.9396      0.343      2.736      0.006       0.266       1.613\n",
      "Gini           0.0352      0.029      1.194      0.233      -0.023       0.093\n",
      "==============================================================================\n",
      "Omnibus:                     1457.033   Durbin-Watson:                   1.012\n",
      "Prob(Omnibus):                  0.000   Jarque-Bera (JB):           250566.588\n",
      "Skew:                           6.651   Prob(JB):                         0.00\n",
      "Kurtosis:                      74.337   Cond. No.                         39.2\n",
      "==============================================================================\n",
      "\n",
      "Notes:\n",
      "[1] Standard Errors assume that the covariance matrix of the errors is correctly specified.\n"
     ]
    }
   ],
   "source": [
    "runner(data_2015_2018)"
   ]
  },
  {
   "cell_type": "markdown",
   "metadata": {},
   "source": [
    "Inferences -> Data is somewhat different for each time interval "
   ]
  },
  {
   "cell_type": "markdown",
   "metadata": {},
   "source": [
    "Question 7 "
   ]
  },
  {
   "cell_type": "markdown",
   "metadata": {},
   "source": [
    "Examining if there are differences in the estimates of the Kuznets curve across regions within India."
   ]
  },
  {
   "cell_type": "code",
   "execution_count": null,
   "metadata": {},
   "outputs": [
    {
     "name": "stdout",
     "output_type": "stream",
     "text": [
      "                            OLS Regression Results                            \n",
      "==============================================================================\n",
      "Dep. Variable:              potassium   R-squared:                       0.195\n",
      "Model:                            OLS   Adj. R-squared:                  0.182\n",
      "Method:                 Least Squares   F-statistic:                     14.09\n",
      "Date:                Sun, 28 Apr 2024   Prob (F-statistic):           2.63e-10\n",
      "Time:                        23:31:42   Log-Likelihood:                -310.52\n",
      "No. Observations:                 237   AIC:                             631.0\n",
      "Df Residuals:                     232   BIC:                             648.4\n",
      "Df Model:                           4                                         \n",
      "Covariance Type:            nonrobust                                         \n",
      "==============================================================================\n",
      "                 coef    std err          t      P>|t|      [0.025      0.975]\n",
      "------------------------------------------------------------------------------\n",
      "const       1.274e-16      0.059   2.16e-15      1.000      -0.116       0.116\n",
      "GDP           -4.7341      0.874     -5.416      0.000      -6.456      -3.012\n",
      "GDP2          11.9113      2.116      5.630      0.000       7.743      16.080\n",
      "GDP3          -7.2176      1.320     -5.467      0.000      -9.819      -4.616\n",
      "Gini           0.0114      0.065      0.176      0.861      -0.117       0.139\n",
      "==============================================================================\n",
      "Omnibus:                      158.169   Durbin-Watson:                   1.746\n",
      "Prob(Omnibus):                  0.000   Jarque-Bera (JB):             1721.131\n",
      "Skew:                           2.489   Prob(JB):                         0.00\n",
      "Kurtosis:                      15.227   Cond. No.                         77.9\n",
      "==============================================================================\n",
      "\n",
      "Notes:\n",
      "[1] Standard Errors assume that the covariance matrix of the errors is correctly specified.\n"
     ]
    }
   ],
   "source": [
    "data = pd.read_excel('ECO/NORTH-EASTERN_REGION.xlsx')\n",
    "runner(data)"
   ]
  },
  {
   "cell_type": "code",
   "execution_count": null,
   "metadata": {},
   "outputs": [
    {
     "name": "stdout",
     "output_type": "stream",
     "text": [
      "                            OLS Regression Results                            \n",
      "==============================================================================\n",
      "Dep. Variable:              potassium   R-squared:                       0.065\n",
      "Model:                            OLS   Adj. R-squared:                  0.059\n",
      "Method:                 Least Squares   F-statistic:                     12.12\n",
      "Date:                Sun, 28 Apr 2024   Prob (F-statistic):           1.56e-09\n",
      "Time:                        23:31:43   Log-Likelihood:                -976.74\n",
      "No. Observations:                 705   AIC:                             1963.\n",
      "Df Residuals:                     700   BIC:                             1986.\n",
      "Df Model:                           4                                         \n",
      "Covariance Type:            nonrobust                                         \n",
      "==============================================================================\n",
      "                 coef    std err          t      P>|t|      [0.025      0.975]\n",
      "------------------------------------------------------------------------------\n",
      "const       4.778e-17      0.037   1.31e-15      1.000      -0.072       0.072\n",
      "GDP            0.7352      0.376      1.957      0.051      -0.002       1.473\n",
      "GDP2          -1.1692      0.793     -1.475      0.141      -2.726       0.387\n",
      "GDP3           0.5483      0.462      1.188      0.235      -0.358       1.454\n",
      "Gini          -0.2234      0.038     -5.941      0.000      -0.297      -0.150\n",
      "==============================================================================\n",
      "Omnibus:                      618.812   Durbin-Watson:                   1.359\n",
      "Prob(Omnibus):                  0.000   Jarque-Bera (JB):            22323.871\n",
      "Skew:                           3.783   Prob(JB):                         0.00\n",
      "Kurtosis:                      29.509   Cond. No.                         45.9\n",
      "==============================================================================\n",
      "\n",
      "Notes:\n",
      "[1] Standard Errors assume that the covariance matrix of the errors is correctly specified.\n"
     ]
    }
   ],
   "source": [
    "data = pd.read_excel('ECO/EASTERN_REGION.xlsx')\n",
    "runner(data)"
   ]
  },
  {
   "cell_type": "code",
   "execution_count": null,
   "metadata": {},
   "outputs": [
    {
     "name": "stdout",
     "output_type": "stream",
     "text": [
      "                            OLS Regression Results                            \n",
      "==============================================================================\n",
      "Dep. Variable:              potassium   R-squared:                       0.002\n",
      "Model:                            OLS   Adj. R-squared:                 -0.001\n",
      "Method:                 Least Squares   F-statistic:                    0.5693\n",
      "Date:                Sun, 28 Apr 2024   Prob (F-statistic):              0.685\n",
      "Time:                        23:31:45   Log-Likelihood:                -1738.5\n",
      "No. Observations:                1226   AIC:                             3487.\n",
      "Df Residuals:                    1221   BIC:                             3513.\n",
      "Df Model:                           4                                         \n",
      "Covariance Type:            nonrobust                                         \n",
      "==============================================================================\n",
      "                 coef    std err          t      P>|t|      [0.025      0.975]\n",
      "------------------------------------------------------------------------------\n",
      "const       6.933e-17      0.029   2.43e-15      1.000      -0.056       0.056\n",
      "GDP           -0.0309      0.431     -0.072      0.943      -0.877       0.816\n",
      "GDP2          -0.0908      1.136     -0.080      0.936      -2.319       2.138\n",
      "GDP3           0.1258      0.735      0.171      0.864      -1.316       1.568\n",
      "Gini          -0.0355      0.029     -1.234      0.217      -0.092       0.021\n",
      "==============================================================================\n",
      "Omnibus:                     1919.012   Durbin-Watson:                   1.788\n",
      "Prob(Omnibus):                  0.000   Jarque-Bera (JB):           786780.497\n",
      "Skew:                           9.575   Prob(JB):                         0.00\n",
      "Kurtosis:                     125.618   Cond. No.                         84.9\n",
      "==============================================================================\n",
      "\n",
      "Notes:\n",
      "[1] Standard Errors assume that the covariance matrix of the errors is correctly specified.\n"
     ]
    }
   ],
   "source": [
    "data = pd.read_excel('ECO/CENTRAL_REGION.xlsx')\n",
    "runner(data)"
   ]
  },
  {
   "cell_type": "code",
   "execution_count": null,
   "metadata": {},
   "outputs": [
    {
     "name": "stdout",
     "output_type": "stream",
     "text": [
      "                            OLS Regression Results                            \n",
      "==============================================================================\n",
      "Dep. Variable:              potassium   R-squared:                       0.050\n",
      "Model:                            OLS   Adj. R-squared:                  0.047\n",
      "Method:                 Least Squares   F-statistic:                     16.88\n",
      "Date:                Sun, 28 Apr 2024   Prob (F-statistic):           1.68e-13\n",
      "Time:                        23:31:46   Log-Likelihood:                -1808.7\n",
      "No. Observations:                1298   AIC:                             3627.\n",
      "Df Residuals:                    1293   BIC:                             3653.\n",
      "Df Model:                           4                                         \n",
      "Covariance Type:            nonrobust                                         \n",
      "==============================================================================\n",
      "                 coef    std err          t      P>|t|      [0.025      0.975]\n",
      "------------------------------------------------------------------------------\n",
      "const      -6.126e-17      0.027  -2.26e-15      1.000      -0.053       0.053\n",
      "GDP            1.6597      0.273      6.082      0.000       1.124       2.195\n",
      "GDP2          -3.2486      0.643     -5.053      0.000      -4.510      -1.987\n",
      "GDP3           1.5960      0.397      4.017      0.000       0.817       2.375\n",
      "Gini           0.0402      0.027      1.464      0.143      -0.014       0.094\n",
      "==============================================================================\n",
      "Omnibus:                     1130.189   Durbin-Watson:                   1.014\n",
      "Prob(Omnibus):                  0.000   Jarque-Bera (JB):            35671.446\n",
      "Skew:                           3.974   Prob(JB):                         0.00\n",
      "Kurtosis:                      27.421   Cond. No.                         50.4\n",
      "==============================================================================\n",
      "\n",
      "Notes:\n",
      "[1] Standard Errors assume that the covariance matrix of the errors is correctly specified.\n"
     ]
    }
   ],
   "source": [
    "data = pd.read_excel('ECO/NORTHERN_REGION.xlsx')\n",
    "runner(data)"
   ]
  },
  {
   "cell_type": "code",
   "execution_count": null,
   "metadata": {},
   "outputs": [
    {
     "name": "stdout",
     "output_type": "stream",
     "text": [
      "                            OLS Regression Results                            \n",
      "==============================================================================\n",
      "Dep. Variable:              potassium   R-squared:                       0.039\n",
      "Model:                            OLS   Adj. R-squared:                  0.031\n",
      "Method:                 Least Squares   F-statistic:                     4.920\n",
      "Date:                Sun, 28 Apr 2024   Prob (F-statistic):           0.000678\n",
      "Time:                        23:31:46   Log-Likelihood:                -681.28\n",
      "No. Observations:                 487   AIC:                             1373.\n",
      "Df Residuals:                     482   BIC:                             1394.\n",
      "Df Model:                           4                                         \n",
      "Covariance Type:            nonrobust                                         \n",
      "==============================================================================\n",
      "                 coef    std err          t      P>|t|      [0.025      0.975]\n",
      "------------------------------------------------------------------------------\n",
      "const      -7.392e-17      0.045  -1.66e-15      1.000      -0.088       0.088\n",
      "GDP            1.1146      0.338      3.295      0.001       0.450       1.779\n",
      "GDP2          -2.7473      0.854     -3.218      0.001      -4.425      -1.070\n",
      "GDP3           1.5758      0.561      2.807      0.005       0.473       2.679\n",
      "Gini          -0.0300      0.046     -0.658      0.511      -0.120       0.060\n",
      "==============================================================================\n",
      "Omnibus:                      207.133   Durbin-Watson:                   0.883\n",
      "Prob(Omnibus):                  0.000   Jarque-Bera (JB):              885.242\n",
      "Skew:                           1.902   Prob(JB):                    5.92e-193\n",
      "Kurtosis:                       8.399   Cond. No.                         40.8\n",
      "==============================================================================\n",
      "\n",
      "Notes:\n",
      "[1] Standard Errors assume that the covariance matrix of the errors is correctly specified.\n"
     ]
    }
   ],
   "source": [
    "data = pd.read_excel('ECO/SOUTHERN_REGION.xlsx')\n",
    "runner(data)"
   ]
  },
  {
   "cell_type": "code",
   "execution_count": null,
   "metadata": {},
   "outputs": [
    {
     "name": "stdout",
     "output_type": "stream",
     "text": [
      "                            OLS Regression Results                            \n",
      "==============================================================================\n",
      "Dep. Variable:              potassium   R-squared:                       0.046\n",
      "Model:                            OLS   Adj. R-squared:                  0.040\n",
      "Method:                 Least Squares   F-statistic:                     7.024\n",
      "Date:                Sun, 28 Apr 2024   Prob (F-statistic):           1.59e-05\n",
      "Time:                        23:31:47   Log-Likelihood:                -813.41\n",
      "No. Observations:                 583   AIC:                             1637.\n",
      "Df Residuals:                     578   BIC:                             1659.\n",
      "Df Model:                           4                                         \n",
      "Covariance Type:            nonrobust                                         \n",
      "==============================================================================\n",
      "                 coef    std err          t      P>|t|      [0.025      0.975]\n",
      "------------------------------------------------------------------------------\n",
      "const       -1.34e-16      0.041   -3.3e-15      1.000      -0.080       0.080\n",
      "GDP            1.1812      0.556      2.125      0.034       0.090       2.273\n",
      "GDP2          -2.7572      1.302     -2.118      0.035      -5.314      -0.201\n",
      "GDP3           1.4579      0.787      1.852      0.065      -0.089       3.004\n",
      "Gini           0.0860      0.041      2.110      0.035       0.006       0.166\n",
      "==============================================================================\n",
      "Omnibus:                      322.839   Durbin-Watson:                   0.860\n",
      "Prob(Omnibus):                  0.000   Jarque-Bera (JB):             2148.056\n",
      "Skew:                           2.442   Prob(JB):                         0.00\n",
      "Kurtosis:                      11.036   Cond. No.                         68.0\n",
      "==============================================================================\n",
      "\n",
      "Notes:\n",
      "[1] Standard Errors assume that the covariance matrix of the errors is correctly specified.\n"
     ]
    }
   ],
   "source": [
    "data = pd.read_excel('ECO/WESTERN_REGION.xlsx')\n",
    "runner(data)"
   ]
  },
  {
   "cell_type": "markdown",
   "metadata": {},
   "source": [
    "There are signifant differences in the estimates of the Kuznets curve across regions within India."
   ]
  }
 ],
 "metadata": {
  "kernelspec": {
   "display_name": "Python 3",
   "language": "python",
   "name": "python3"
  },
  "language_info": {
   "codemirror_mode": {
    "name": "ipython",
    "version": 3
   },
   "file_extension": ".py",
   "mimetype": "text/x-python",
   "name": "python",
   "nbconvert_exporter": "python",
   "pygments_lexer": "ipython3",
   "version": "3.10.11"
  }
 },
 "nbformat": 4,
 "nbformat_minor": 2
}
